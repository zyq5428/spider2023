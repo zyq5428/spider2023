{
 "cells": [
  {
   "cell_type": "code",
   "execution_count": 1,
   "id": "f2a6ab0c-537a-457b-a02f-574fa14c72e6",
   "metadata": {
    "tags": []
   },
   "outputs": [],
   "source": [
    "# URL = 'https://www.xn--pxtr7m.com/threads/216723/profile'"
   ]
  },
  {
   "cell_type": "code",
   "execution_count": 2,
   "id": "5a5905e1-8848-4f19-b7ea-d830b162bada",
   "metadata": {
    "tags": []
   },
   "outputs": [],
   "source": [
    "import requests"
   ]
  },
  {
   "cell_type": "code",
   "execution_count": 3,
   "id": "ee220354-00b7-491e-9229-c995c8cc6ba7",
   "metadata": {
    "tags": []
   },
   "outputs": [],
   "source": [
    "URL = 'https://www.xn--pxtr7m.com/threads/216723/profile'"
   ]
  },
  {
   "cell_type": "code",
   "execution_count": 6,
   "id": "35b06752-3d66-46a8-8631-defd5ed990c5",
   "metadata": {
    "tags": []
   },
   "outputs": [
    {
     "name": "stdout",
     "output_type": "stream",
     "text": [
      "200\n",
      "\n",
      "<!DOCTYPE html>\n",
      "<html lang=\"zh-CN\">\n",
      "    <head>\n",
      "        <link rel=\"stylesheet\" href=\"/css/app.css\">\n",
      "        <title>废文网-有趣有品有点丧</title>\n",
      "    </head>\n",
      "\n",
      "    <body class=\"firewall-page\">\n",
      "        <div class=\"container-fluid\">\n",
      "            <div class=\"content\">\n",
      "                <div class=\"title\">\n",
      "                    <h1>废文网成立于2017年，鼓励优质创作，鼓励友好交流，鼓励题材百花齐放。生活中的种种束缚已经太多，我们真诚地希望，在这里，作者能享受自由创作的快乐、读者能享受自由阅读的快乐、不同身份的人都能找到属于自己的怡然自得。</h1>\n",
      "                    <h4>用户需更新浏览器版本或登陆后重新访问，如有疑问，请联系管理员。</h4>\n",
      "                    <h4>当前IP：80.251.222.141</h4>\n",
      "                    <br>\n",
      "                    <h4>邮箱：sosadfun@gmail.com</h4>\n",
      "                    <br>\n",
      "                    <h5>废文网技术团队2022-04-28</h5>\n",
      "                </div>\n",
      "            </div>\n",
      "        </div>\n",
      "\n",
      "    </body>\n",
      "</html>\n",
      "\n"
     ]
    }
   ],
   "source": [
    "response = requests.get(URL)\n",
    "print(response.status_code)\n",
    "print(response.text)"
   ]
  },
  {
   "cell_type": "code",
   "execution_count": null,
   "id": "a8ab061a-4cb0-4483-81e1-1a31744f4017",
   "metadata": {},
   "outputs": [],
   "source": []
  }
 ],
 "metadata": {
  "kernelspec": {
   "display_name": "Python 3 (ipykernel)",
   "language": "python",
   "name": "python3"
  },
  "language_info": {
   "codemirror_mode": {
    "name": "ipython",
    "version": 3
   },
   "file_extension": ".py",
   "mimetype": "text/x-python",
   "name": "python",
   "nbconvert_exporter": "python",
   "pygments_lexer": "ipython3",
   "version": "3.11.3"
  }
 },
 "nbformat": 4,
 "nbformat_minor": 5
}
