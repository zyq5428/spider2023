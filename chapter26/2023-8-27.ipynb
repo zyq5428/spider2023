{
 "cells": [
  {
   "cell_type": "code",
   "execution_count": 31,
   "id": "378fb40c-72fb-478c-bc88-c8c6021dcf45",
   "metadata": {
    "tags": []
   },
   "outputs": [],
   "source": [
    "import requests\n",
    "import logging\n",
    "import asyncio\n",
    "import re\n",
    "import time\n",
    "import pymongo\n",
    "from pyquery import PyQuery as pq\n",
    "\n",
    "MONGO_CONNECTION_STRING = 'mongodb://localhost:27017'\n",
    "MONGO_NAME = 'story827'\n",
    "MONGO_DB_NAME = MONGO_NAME\n",
    "MONGO_COLLECTION_NAME = MONGO_NAME\n",
    "\n",
    "client = pymongo.MongoClient(MONGO_CONNECTION_STRING)\n",
    "db = client[MONGO_DB_NAME]\n",
    "collection = db[MONGO_CONNECTION_STRING]\n",
    "\n",
    "logging.basicConfig(level=logging.INFO,\n",
    "                    format='%(asctime)s - %(levelname)s: %(message)s')\n",
    "\n",
    "stories_url = 'https://www.xn--pxtr7m.com/threads/216723/profile'\n",
    "username = '3072912320@qq.com'\n",
    "password = '128314'\n",
    "cookies_file = 'cookies_feiwen.txt'\n",
    "\n",
    "headers = {\n",
    "'User-Agent': 'Mozilla/5.0 (Macintosh; Intel Mac OS X 10_11_4) AppleWebKit/537.36 (KHTML, like Gecko) Chrome/52.0.2743.116 Safari/537.36'\n",
    "}"
   ]
  },
  {
   "cell_type": "code",
   "execution_count": 36,
   "id": "cc4d9e4d-bae3-41ee-bc5f-5e343b33acb7",
   "metadata": {
    "tags": []
   },
   "outputs": [],
   "source": [
    "def use_saved_cookies(session):\n",
    "    session.headers = headers\n",
    "    jar = requests.cookies.RequestsCookieJar()\n",
    "    \n",
    "    with open(cookies_file, 'r') as f:\n",
    "        cookies = eval(f.read())\n",
    "    for cookie in cookies:\n",
    "        jar.set(cookie['name'], cookie['value'], domain=cookie['domain'], path=cookie['path'])\n",
    "    session.cookies.update(jar)\n",
    "\n",
    "    # response = session.get(stories_url)\n",
    "\n",
    "    # print(session.cookies)\n",
    "    # print(session.cookies.get_dict())\n",
    "\n",
    "def scrape_api(session, url):\n",
    "    logging.info('scraping %s', url)\n",
    "    try:\n",
    "        response = session.get(url)\n",
    "        if response.status_code == 200:\n",
    "            return response.text\n",
    "    except requests.RequestException:\n",
    "        logging.error('error occurred while scraping %s', url, exc_info=True)\n",
    "\n",
    "def scrape_index(session, index):\n",
    "    return scrape_api(session, stories_url)\n",
    "\n",
    "def parse_index(html):\n",
    "    doc = pq(html)\n",
    "    article = doc('.article-title .font-1').text()\n",
    "    chapters = doc('.panel-body .btn').items()\n",
    "    for chapter in chapters:\n",
    "        chapters_url = chapter.attr('href')\n",
    "        yield chapters_url\n",
    "\n",
    "def scrape_detail(session, detail_url):\n",
    "    return scrape_api(session, detail_url)\n",
    "\n",
    "def parse_detail(html):\n",
    "    doc = pq(html)\n",
    "    chapter_name = doc('.text-center .h3').text()\n",
    "    chapter_brief = doc('.text-center .h5').text()\n",
    "    contents = doc('.main-text.no-selection span').items()\n",
    "    content_list = []\n",
    "    for content in contents:\n",
    "        content_list.append(content.text())\n",
    "    chapter_content = content_list[0]\n",
    "    return {\n",
    "        'chapter_name': chapter_name,\n",
    "        'chapter_brief': chapter_brief,\n",
    "        'chapter_content': chapter_content,\n",
    "    }\n",
    "\n",
    "def save_data(data):\n",
    "    logging.debug('saving data %s', data)\n",
    "    collection.update_one({\n",
    "        'name': data.get('chapter_name')\n",
    "    }, {\n",
    "        '$set': data\n",
    "    }, upsert=True)"
   ]
  },
  {
   "cell_type": "code",
   "execution_count": 37,
   "id": "b87e6770-4ac0-42f0-801f-7c21e14180f1",
   "metadata": {
    "tags": []
   },
   "outputs": [],
   "source": [
    "def main():\n",
    "    session = requests.session()\n",
    "    use_saved_cookies(session)\n",
    "    index_html = scrape_index(session, 1)\n",
    "    urls = parse_index(index_html)\n",
    "    for url in urls:\n",
    "        detail_html = scrape_detail(session, url)\n",
    "        data = parse_detail(detail_html)\n",
    "        save_data(data)"
   ]
  },
  {
   "cell_type": "code",
   "execution_count": null,
   "id": "91ad7e6d-2700-4515-b5d4-16767af605de",
   "metadata": {
    "tags": []
   },
   "outputs": [
    {
     "name": "stderr",
     "output_type": "stream",
     "text": [
      "2023-08-27 21:45:04,649 - INFO: scraping https://www.xn--pxtr7m.com/threads/216723/profile\n",
      "2023-08-27 21:45:13,154 - INFO: scraping https://www.xn--pxtr7m.com/posts/11789060\n",
      "2023-08-27 21:45:15,921 - INFO: scraping https://www.xn--pxtr7m.com/posts/11789450\n",
      "2023-08-27 21:45:19,619 - INFO: scraping https://www.xn--pxtr7m.com/posts/11792151\n",
      "2023-08-27 21:45:23,042 - INFO: scraping https://www.xn--pxtr7m.com/posts/11793259\n",
      "2023-08-27 21:45:25,631 - INFO: scraping https://www.xn--pxtr7m.com/posts/11794219\n",
      "2023-08-27 21:45:27,395 - INFO: scraping https://www.xn--pxtr7m.com/posts/11795047\n",
      "2023-08-27 21:45:29,725 - INFO: scraping https://www.xn--pxtr7m.com/posts/11795486\n",
      "2023-08-27 21:45:32,824 - INFO: scraping https://www.xn--pxtr7m.com/posts/11798726\n",
      "2023-08-27 21:45:37,282 - INFO: scraping https://www.xn--pxtr7m.com/posts/11798763\n",
      "2023-08-27 21:45:40,966 - INFO: scraping https://www.xn--pxtr7m.com/posts/11800688\n",
      "2023-08-27 21:45:45,004 - INFO: scraping https://www.xn--pxtr7m.com/posts/11801952\n",
      "2023-08-27 21:45:50,681 - INFO: scraping https://www.xn--pxtr7m.com/posts/11802577\n",
      "2023-08-27 21:45:55,656 - INFO: scraping https://www.xn--pxtr7m.com/posts/11806899\n",
      "2023-08-27 21:45:58,915 - INFO: scraping https://www.xn--pxtr7m.com/posts/11809453\n",
      "2023-08-27 21:46:00,481 - INFO: scraping https://www.xn--pxtr7m.com/posts/11811528\n",
      "2023-08-27 21:46:03,496 - INFO: scraping https://www.xn--pxtr7m.com/posts/11816478\n"
     ]
    }
   ],
   "source": [
    "main()"
   ]
  },
  {
   "cell_type": "code",
   "execution_count": 7,
   "id": "9418950f-20db-40c8-ac50-d60c2c5d0e9a",
   "metadata": {
    "tags": []
   },
   "outputs": [],
   "source": []
  },
  {
   "cell_type": "code",
   "execution_count": 12,
   "id": "bf71d705-e2ef-49d0-a767-745e19a6a710",
   "metadata": {
    "tags": []
   },
   "outputs": [],
   "source": []
  },
  {
   "cell_type": "code",
   "execution_count": 13,
   "id": "082c4a65-0018-48e8-bc35-2032fbcd74dd",
   "metadata": {
    "tags": []
   },
   "outputs": [],
   "source": []
  },
  {
   "cell_type": "code",
   "execution_count": 29,
   "id": "6737515d-b54b-4028-83d1-27808d28b2f1",
   "metadata": {
    "tags": []
   },
   "outputs": [],
   "source": []
  },
  {
   "cell_type": "code",
   "execution_count": 32,
   "id": "a86fd350-7af4-46e6-a51b-67818f1ca657",
   "metadata": {
    "tags": []
   },
   "outputs": [],
   "source": []
  },
  {
   "cell_type": "code",
   "execution_count": 33,
   "id": "3669357d-22f6-4870-b0dc-ba48394e8144",
   "metadata": {
    "tags": []
   },
   "outputs": [],
   "source": []
  },
  {
   "cell_type": "code",
   "execution_count": 34,
   "id": "a07a77c5-1afa-4fb6-8c70-c1cb2a7cc563",
   "metadata": {
    "tags": []
   },
   "outputs": [],
   "source": []
  },
  {
   "cell_type": "code",
   "execution_count": 35,
   "id": "5c1491a1-b71c-482e-a806-d3ccfcbc27e2",
   "metadata": {
    "tags": []
   },
   "outputs": [
    {
     "name": "stderr",
     "output_type": "stream",
     "text": [
      "2023-08-27 21:41:57,955 - INFO: scraping https://www.xn--pxtr7m.com/threads/216723/profile\n"
     ]
    },
    {
     "ename": "TypeError",
     "evalue": "parse_index() takes 0 positional arguments but 1 was given",
     "output_type": "error",
     "traceback": [
      "\u001b[1;31m---------------------------------------------------------------------------\u001b[0m",
      "\u001b[1;31mTypeError\u001b[0m                                 Traceback (most recent call last)",
      "Cell \u001b[1;32mIn[35], line 1\u001b[0m\n\u001b[1;32m----> 1\u001b[0m main()\n",
      "Cell \u001b[1;32mIn[34], line 5\u001b[0m, in \u001b[0;36mmain\u001b[1;34m()\u001b[0m\n\u001b[0;32m      3\u001b[0m use_saved_cookies(session)\n\u001b[0;32m      4\u001b[0m index_html \u001b[38;5;241m=\u001b[39m scrape_index(session, \u001b[38;5;241m1\u001b[39m)\n\u001b[1;32m----> 5\u001b[0m urls \u001b[38;5;241m=\u001b[39m parse_index(index_html)\n\u001b[0;32m      6\u001b[0m \u001b[38;5;28;01mfor\u001b[39;00m url \u001b[38;5;129;01min\u001b[39;00m urls:\n\u001b[0;32m      7\u001b[0m     detail_html \u001b[38;5;241m=\u001b[39m scrape_detail(url)\n",
      "\u001b[1;31mTypeError\u001b[0m: parse_index() takes 0 positional arguments but 1 was given"
     ]
    }
   ],
   "source": [
    "main()"
   ]
  },
  {
   "cell_type": "code",
   "execution_count": null,
   "id": "de9cae87-8f18-4405-8754-39b4de071237",
   "metadata": {
    "tags": []
   },
   "outputs": [],
   "source": []
  },
  {
   "cell_type": "code",
   "execution_count": null,
   "id": "18551b2b-db70-4865-b996-2bdd1e625be6",
   "metadata": {
    "tags": []
   },
   "outputs": [],
   "source": []
  },
  {
   "cell_type": "code",
   "execution_count": null,
   "id": "17148c55-8feb-45db-9e85-5da90ee6d778",
   "metadata": {},
   "outputs": [],
   "source": []
  }
 ],
 "metadata": {
  "kernelspec": {
   "display_name": "Python 3 (ipykernel)",
   "language": "python",
   "name": "python3"
  },
  "language_info": {
   "codemirror_mode": {
    "name": "ipython",
    "version": 3
   },
   "file_extension": ".py",
   "mimetype": "text/x-python",
   "name": "python",
   "nbconvert_exporter": "python",
   "pygments_lexer": "ipython3",
   "version": "3.11.3"
  }
 },
 "nbformat": 4,
 "nbformat_minor": 5
}
